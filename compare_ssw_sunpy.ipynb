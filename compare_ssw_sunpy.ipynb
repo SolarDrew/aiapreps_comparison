{
 "cells": [
  {
   "cell_type": "code",
   "execution_count": null,
   "metadata": {
    "collapsed": false
   },
   "outputs": [],
   "source": [
    "%matplotlib inline\n",
    "import numpy as np\n",
    "import matplotlib.pyplot as plt\n",
    "import sunpy\n",
    "from sunpy.map import Map\n",
    "from sunpy.instr.aia import aiaprep\n",
    "# Show original image?\n",
    "# Load SSW processed image\n",
    "# Show differences between processed images and original\n",
    "# Show difference between processed images"
   ]
  },
  {
   "cell_type": "code",
   "execution_count": null,
   "metadata": {
    "collapsed": false
   },
   "outputs": [],
   "source": [
    "fig = plt.figure(figsize=(15, 8))\n",
    "\n",
    "# Load original image\n",
    "origim = Map(\"aia171_2014-01-11T00_00.fits\")\n",
    "print origim.scale, origim.shape\n",
    "fig.add_subplot(1, 2, 1)\n",
    "origim.plot()\n",
    "plt.title('Max: {:.2f}, Mean: {:.2f}, Min: {:.2f}'.format(origim.max(), origim.mean(), origim.min()))\n",
    "plt.colorbar(orientation='horizontal')\n",
    "\n",
    "# Process original image with SunPy\n",
    "pypreppedim = aiaprep(origim)\n",
    "fig.add_subplot(1, 2, 2)\n",
    "pypreppedim.plot()\n",
    "plt.title('Max: {:.2f}, Mean: {:.2f}, Min: {:.2f}'.format(pypreppedim.max(), pypreppedim.mean(), pypreppedim.min()))\n",
    "plt.colorbar(orientation='horizontal')\n",
    "plt.show()"
   ]
  },
  {
   "cell_type": "code",
   "execution_count": null,
   "metadata": {
    "collapsed": false
   },
   "outputs": [],
   "source": [
    "diffim1 = Map(pypreppedim.data.copy(), pypreppedim.meta.copy())\n",
    "diffim1.data -= origim.data\n",
    "fig, ax = plt.subplots(nrows=2, ncols=1, figsize=(15, 30))\n",
    "plt.sca(ax[0])\n",
    "meandiff = diffim1.mean()\n",
    "stddiff = diffim1.std()\n",
    "diffim1.plot(cmap='coolwarm', vmin=meandiff-(2*stddiff), vmax=meandiff+(2*stddiff))\n",
    "plt.title('Min: {:.2f}, Max{:.2f}\\nMean: {:.2f}, Std Dev: {:.2f}'.format(diffim1.max(), diffim1.min(), meandiff, stddiff))\n",
    "plt.colorbar(orientation='horizontal')\n",
    "plt.sca(ax[1])\n",
    "plt.hist(diffim1.data.flatten(), range=(meandiff-(2*stddiff), meandiff+(2*stddiff)), bins=50)\n",
    "plt.show()"
   ]
  },
  {
   "cell_type": "code",
   "execution_count": null,
   "metadata": {
    "collapsed": false
   },
   "outputs": [],
   "source": [
    "print origim.processing_level, pypreppedim.processing_level\n",
    "print pypreppedim.scale, pypreppedim.shape\n",
    "print np.nanmin(pypreppedim.data), np.nanmean(pypreppedim.data), np.nanmax(pypreppedim.data)\n",
    "print pypreppedim.min(), pypreppedim.mean(), pypreppedim.max()\n",
    "print origim.center, origim.reference_coordinate, origim.reference_pixel\n",
    "print pypreppedim.center, pypreppedim.reference_coordinate, pypreppedim.reference_pixel"
   ]
  }
 ],
 "metadata": {
  "kernelspec": {
   "display_name": "Python 2",
   "language": "python",
   "name": "python2"
  },
  "language_info": {
   "codemirror_mode": {
    "name": "ipython",
    "version": 2
   },
   "file_extension": ".py",
   "mimetype": "text/x-python",
   "name": "python",
   "nbconvert_exporter": "python",
   "pygments_lexer": "ipython2",
   "version": "2.7.9"
  }
 },
 "nbformat": 4,
 "nbformat_minor": 0
}
