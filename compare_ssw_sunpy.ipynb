{
 "cells": [
  {
   "cell_type": "code",
   "execution_count": null,
   "metadata": {
    "collapsed": false
   },
   "outputs": [],
   "source": [
    "%matplotlib inline\n",
    "import numpy as np\n",
    "import matplotlib.pyplot as plt\n",
    "import sunpy\n",
    "from sunpy.map import Map\n",
    "from sunpy.instr.aia import aiaprep\n",
    "\n",
    "# Load original image\n",
    "origim = Map(\"aia171_2014-01-11T00_00.fits\")\n",
    "print origim.scale, origim.shape\n",
    "lowx, highx = (origim.xrange[0] / origim.scale['x'],\n",
    "               origim.xrange[1] / origim.scale['x'])\n",
    "lowy, highy = (origim.yrange[0] / origim.scale['y'],\n",
    "               origim.yrange[1] / origim.scale['y'])\n",
    "x_grid, y_grid = np.mgrid[lowx:highx-1, lowy:highy-1]\n",
    "r_grid = np.sqrt((x_grid ** 2.0) + (y_grid ** 2.0))\n",
    "outer_rad = (origim.rsun_arcseconds * 1.4) / origim.scale['x']\n",
    "origim.data[r_grid > outer_rad] = 1\n",
    "\n",
    "# Process original image with SunPy\n",
    "pypreppedim = aiaprep(origim)\n",
    "print pypreppedim.scale, pypreppedim.shape\n",
    "lowx, highx = (pypreppedim.xrange[0] / pypreppedim.scale['x'],\n",
    "               pypreppedim.xrange[1] / pypreppedim.scale['x'])\n",
    "lowy, highy = (pypreppedim.yrange[0] / pypreppedim.scale['y'],\n",
    "               pypreppedim.yrange[1] / pypreppedim.scale['y'])\n",
    "x_grid, y_grid = np.mgrid[lowx:highx-1, lowy:highy-1]\n",
    "r_grid = np.sqrt((x_grid ** 2.0) + (y_grid ** 2.0))\n",
    "outer_rad = (pypreppedim.rsun_arcseconds * 1.4) / pypreppedim.scale['x']\n",
    "pypreppedim.data[r_grid > outer_rad] = 1\n",
    "\n",
    "# Load image processed with IDL\n",
    "idlpreppedim = Map(\"aia171_2014-01-11T00_00_idlprepped.fits\")\n",
    "print idlpreppedim.scale, idlpreppedim.shape\n",
    "lowx, highx = (idlpreppedim.xrange[0] / idlpreppedim.scale['x'],\n",
    "               idlpreppedim.xrange[1] / idlpreppedim.scale['x'])\n",
    "lowy, highy = (idlpreppedim.yrange[0] / idlpreppedim.scale['y'],\n",
    "               idlpreppedim.yrange[1] / idlpreppedim.scale['y'])\n",
    "x_grid, y_grid = np.mgrid[lowx:highx-1, lowy:highy-1]\n",
    "r_grid = np.sqrt((x_grid ** 2.0) + (y_grid ** 2.0))\n",
    "outer_rad = (idlpreppedim.rsun_arcseconds * 1.4) / idlpreppedim.scale['x']\n",
    "idlpreppedim.data[r_grid > outer_rad] = 1"
   ]
  },
  {
   "cell_type": "code",
   "execution_count": null,
   "metadata": {
    "collapsed": false
   },
   "outputs": [],
   "source": [
    "\"\"\"Visually compare original image to image processed using SunPy\"\"\"\n",
    "\n",
    "fig = plt.figure(figsize=(15, 8))\n",
    "\n",
    "fig.add_subplot(1, 2, 1)\n",
    "origim.plot()\n",
    "plt.title('Max: {:.2f}, Mean: {:.2f}, Min: {:.2f}'.format(origim.max(), origim.mean(), origim.min()))\n",
    "plt.colorbar(orientation='horizontal')\n",
    "\n",
    "fig.add_subplot(1, 2, 2)\n",
    "pypreppedim.plot()\n",
    "plt.title('Max: {:.2f}, Mean: {:.2f}, Min: {:.2f}'.format(pypreppedim.max(), pypreppedim.mean(), pypreppedim.min()))\n",
    "plt.colorbar(orientation='horizontal')\n",
    "plt.show()"
   ]
  },
  {
   "cell_type": "code",
   "execution_count": null,
   "metadata": {
    "collapsed": false,
    "scrolled": true
   },
   "outputs": [],
   "source": [
    "\"\"\"Assess difference of SunPy image from original.\"\"\"\n",
    "\n",
    "diffim1 = Map(pypreppedim.data.copy(), pypreppedim.meta.copy())\n",
    "diffim1.data = (origim.data - pypreppedim.data) / origim.data\n",
    "fig, ax = plt.subplots(nrows=1, ncols=2, figsize=(15, 8))\n",
    "plt.sca(ax[0])\n",
    "meandiff = diffim1.data[np.isfinite(diffim1.data)].mean()\n",
    "stddiff = diffim1.data[np.isfinite(diffim1.data)].std()\n",
    "maxdiff = diffim1.data[np.isfinite(diffim1.data)].max()\n",
    "mindiff = diffim1.data[np.isfinite(diffim1.data)].min()\n",
    "#diffim1.plot(cmap='coolwarm', vmin=meandiff-(2*stddiff), vmax=meandiff+(2*stddiff))\n",
    "diffim1.plot(cmap='coolwarm', vmin=-2, vmax=2)\n",
    "plt.title('Min: {:.2f}, Max{:.2f}\\nMean: {:.2f}, Std Dev: {:.2f}'.format(maxdiff, mindiff, meandiff, stddiff))\n",
    "plt.colorbar(orientation='horizontal')\n",
    "plt.sca(ax[1])\n",
    "#plt.hist(diffim1.data.flatten(), range=(meandiff-(10*stddiff), meandiff+(10*stddiff)), bins=50)\n",
    "plt.hist(diffim1.data.flatten(), range=(-5, 5), bins=50, cumulative=True)\n",
    "plt.axhline(diffim1.size, linestyle='--', label='Total no. of pixels in image')\n",
    "plt.axvline(-1, linestyle='--', color='black')\n",
    "plt.axvline(1, linestyle='--', color='black')\n",
    "#plt.xlim(-5, 5)\n",
    "plt.xlabel('(Original pixel value - processed pixel value) / Original pixel value')\n",
    "plt.ylabel('Pixel count')\n",
    "#plt.legend()\n",
    "plt.show()"
   ]
  },
  {
   "cell_type": "code",
   "execution_count": null,
   "metadata": {
    "collapsed": false
   },
   "outputs": [],
   "source": [
    "print origim.processing_level, pypreppedim.processing_level\n",
    "print pypreppedim.scale, pypreppedim.shape\n",
    "print np.nanmin(pypreppedim.data), np.nanmean(pypreppedim.data), np.nanmax(pypreppedim.data)\n",
    "print pypreppedim.min(), pypreppedim.mean(), pypreppedim.max()\n",
    "print origim.center, origim.reference_coordinate, origim.reference_pixel\n",
    "print pypreppedim.center, pypreppedim.reference_coordinate, pypreppedim.reference_pixel"
   ]
  },
  {
   "cell_type": "code",
   "execution_count": null,
   "metadata": {
    "collapsed": false
   },
   "outputs": [],
   "source": [
    "\"\"\"Visually compare original image to image processed using IDL\"\"\"\n",
    "\n",
    "fig = plt.figure(figsize=(15, 8))\n",
    "\n",
    "print origim.scale, origim.shape\n",
    "fig.add_subplot(1, 2, 1)\n",
    "origim.plot()\n",
    "plt.title('Max: {:.2f}, Mean: {:.2f}, Min: {:.2f}'.format(origim.max(), origim.mean(), origim.min()))\n",
    "plt.colorbar(orientation='horizontal')\n",
    "\n",
    "fig.add_subplot(1, 2, 2)\n",
    "idlpreppedim.plot()\n",
    "plt.title('Max: {:.2f}, Mean: {:.2f}, Min: {:.2f}'.format(idlpreppedim.max(), idlpreppedim.mean(), idlpreppedim.min()))\n",
    "plt.colorbar(orientation='horizontal')\n",
    "plt.show()"
   ]
  },
  {
   "cell_type": "code",
   "execution_count": null,
   "metadata": {
    "collapsed": false
   },
   "outputs": [],
   "source": [
    "\"\"\"Assess difference of IDL image from original.\"\"\"\n",
    "\n",
    "diffim2 = Map(idlpreppedim.data.copy(), idlpreppedim.meta.copy())\n",
    "diffim2.data = (origim.data - idlpreppedim.data) / origim.data\n",
    "fig, ax = plt.subplots(nrows=1, ncols=2, figsize=(15, 8))\n",
    "plt.sca(ax[0])\n",
    "meandiff = diffim2.data[np.isfinite(diffim2.data)].mean()\n",
    "stddiff = diffim2.data[np.isfinite(diffim2.data)].std()\n",
    "maxdiff = diffim2.data[np.isfinite(diffim2.data)].max()\n",
    "mindiff = diffim2.data[np.isfinite(diffim2.data)].min()\n",
    "#diffim2.plot(cmap='coolwarm', vmin=meandiff-(2*stddiff), vmax=meandiff+(2*stddiff))\n",
    "diffim2.plot(cmap='coolwarm', vmin=-2, vmax=2)\n",
    "plt.title('Min: {:.2f}, Max{:.2f}\\nMean: {:.2f}, Std Dev: {:.2f}'.format(maxdiff, mindiff, meandiff, stddiff))\n",
    "plt.colorbar(orientation='horizontal')\n",
    "plt.sca(ax[1])\n",
    "#plt.hist(diffim2.data.flatten(), range=(meandiff-(10*stddiff), meandiff+(10*stddiff)), bins=50)\n",
    "plt.hist(diffim2.data.flatten(), range=(-5, 5), bins=50, cumulative=True)\n",
    "plt.axhline(diffim2.size, linestyle='--', label='Total no. of pixels in image')\n",
    "plt.axvline(-1, linestyle='--', color='black')\n",
    "plt.axvline(1, linestyle='--', color='black')\n",
    "#plt.xlim(-5, 5)\n",
    "plt.xlabel('(Original pixel value - processed pixel value) / Original pixel value')\n",
    "plt.ylabel('Pixel count')\n",
    "#plt.legend()\n",
    "plt.show()"
   ]
  },
  {
   "cell_type": "code",
   "execution_count": null,
   "metadata": {
    "collapsed": false
   },
   "outputs": [],
   "source": [
    "print origim.processing_level, idlpreppedim.processing_level\n",
    "print idlpreppedim.scale, idlpreppedim.shape\n",
    "print np.nanmin(idlpreppedim.data), np.nanmean(idlpreppedim.data), np.nanmax(idlpreppedim.data)\n",
    "print idlpreppedim.min(), idlpreppedim.mean(), idlpreppedim.max()\n",
    "print origim.center, origim.reference_coordinate, origim.reference_pixel\n",
    "print idlpreppedim.center, idlpreppedim.reference_coordinate, idlpreppedim.reference_pixel"
   ]
  },
  {
   "cell_type": "code",
   "execution_count": null,
   "metadata": {
    "collapsed": false
   },
   "outputs": [],
   "source": [
    "\"\"\"Assess difference of SunPy image from IDL.\"\"\"\n",
    "\n",
    "diffim3 = Map(idlpreppedim.data.copy(), idlpreppedim.meta.copy())\n",
    "diffim3.data = (idlpreppedim.data - pypreppedim.data) / idlpreppedim.data\n",
    "fig, ax = plt.subplots(nrows=1, ncols=2, figsize=(15, 8))\n",
    "plt.sca(ax[0])\n",
    "meandiff = diffim3.data[np.isfinite(diffim3.data)].mean()\n",
    "stddiff = diffim3.data[np.isfinite(diffim3.data)].std()\n",
    "maxdiff = diffim3.data[np.isfinite(diffim3.data)].max()\n",
    "mindiff = diffim3.data[np.isfinite(diffim3.data)].min()\n",
    "#diffim2.plot(cmap='coolwarm', vmin=meandiff-(2*stddiff), vmax=meandiff+(2*stddiff))\n",
    "diffim3.plot(cmap='coolwarm', vmin=-2, vmax=2)\n",
    "plt.title('Min: {:.2f}, Max{:.2f}\\nMean: {:.2f}, Std Dev: {:.2f}'.format(maxdiff, mindiff, meandiff, stddiff))\n",
    "plt.colorbar(orientation='horizontal')\n",
    "plt.sca(ax[1])\n",
    "#plt.hist(diffim2.data.flatten(), range=(meandiff-(10*stddiff), meandiff+(10*stddiff)), bins=50)\n",
    "plt.hist(diffim3.data.flatten(), range=(-5, 5), bins=50, cumulative=True)\n",
    "plt.axhline(diffim3.size, linestyle='--', label='Total no. of pixels in image')\n",
    "plt.axvline(-1, linestyle='--', color='black')\n",
    "plt.axvline(1, linestyle='--', color='black')\n",
    "#plt.xlim(-5, 5)\n",
    "plt.xlabel('(Original pixel value - processed pixel value) / Original pixel value')\n",
    "plt.ylabel('Pixel count')\n",
    "#plt.legend()\n",
    "plt.show()"
   ]
  }
 ],
 "metadata": {
  "kernelspec": {
   "display_name": "Python 2",
   "language": "python",
   "name": "python2"
  },
  "language_info": {
   "codemirror_mode": {
    "name": "ipython",
    "version": 2
   },
   "file_extension": ".py",
   "mimetype": "text/x-python",
   "name": "python",
   "nbconvert_exporter": "python",
   "pygments_lexer": "ipython2",
   "version": "2.7.9"
  }
 },
 "nbformat": 4,
 "nbformat_minor": 0
}
